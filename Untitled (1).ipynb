{
 "cells": [
  {
   "cell_type": "markdown",
   "metadata": {},
   "source": [
    "# run this with "
   ]
  },
  {
   "cell_type": "code",
   "execution_count": 15,
   "metadata": {},
   "outputs": [
    {
     "ename": "ImportError",
     "evalue": "cannot import name 'interact_manuel' from 'ipywidgets' (/opt/conda/lib/python3.7/site-packages/ipywidgets/__init__.py)",
     "output_type": "error",
     "traceback": [
      "\u001b[0;31m---------------------------------------------------------------------------\u001b[0m",
      "\u001b[0;31mImportError\u001b[0m                               Traceback (most recent call last)",
      "\u001b[0;32m<ipython-input-15-37f9104ee59b>\u001b[0m in \u001b[0;36m<module>\u001b[0;34m\u001b[0m\n\u001b[1;32m      1\u001b[0m \u001b[0;32mfrom\u001b[0m \u001b[0m__future__\u001b[0m \u001b[0;32mimport\u001b[0m \u001b[0mprint_function\u001b[0m\u001b[0;34m\u001b[0m\u001b[0;34m\u001b[0m\u001b[0m\n\u001b[0;32m----> 2\u001b[0;31m \u001b[0;32mfrom\u001b[0m \u001b[0mipywidgets\u001b[0m \u001b[0;32mimport\u001b[0m \u001b[0minteract\u001b[0m\u001b[0;34m,\u001b[0m \u001b[0minteract_manuel\u001b[0m\u001b[0;34m,\u001b[0m \u001b[0minteractive\u001b[0m\u001b[0;34m,\u001b[0m \u001b[0mfixed\u001b[0m\u001b[0;34m,\u001b[0m \u001b[0minteract_manual\u001b[0m\u001b[0;34m\u001b[0m\u001b[0;34m\u001b[0m\u001b[0m\n\u001b[0m\u001b[1;32m      3\u001b[0m \u001b[0;32mimport\u001b[0m \u001b[0mipywidgets\u001b[0m \u001b[0;32mas\u001b[0m \u001b[0mwidgets\u001b[0m\u001b[0;34m\u001b[0m\u001b[0;34m\u001b[0m\u001b[0m\n",
      "\u001b[0;31mImportError\u001b[0m: cannot import name 'interact_manuel' from 'ipywidgets' (/opt/conda/lib/python3.7/site-packages/ipywidgets/__init__.py)"
     ]
    }
   ],
   "source": [
    "from __future__ import print_function\n",
    "from ipywidgets import interact, interactive, fixed, interact_manual\n",
    "import ipywidgets as widgets\n"
   ]
  },
  {
   "cell_type": "code",
   "execution_count": 5,
   "metadata": {},
   "outputs": [],
   "source": [
    "from PIL import Image\n",
    "from PIL import ImageDraw\n",
    "import numpy as np"
   ]
  },
  {
   "cell_type": "code",
   "execution_count": 4,
   "metadata": {},
   "outputs": [
    {
     "data": {
      "application/vnd.jupyter.widget-view+json": {
       "model_id": "0a301351ec104b519a9737ff7995f3c2",
       "version_major": 2,
       "version_minor": 0
      },
      "text/plain": [
       "interactive(children=(Checkbox(value=True, description='x'), FloatSlider(value=1.0, description='y', max=3.0, …"
      ]
     },
     "metadata": {},
     "output_type": "display_data"
    }
   ],
   "source": [
    "@interact(x=True, y=1.0)\n",
    "def g(x, y):\n",
    "    return (x, y)"
   ]
  },
  {
   "cell_type": "code",
   "execution_count": 10,
   "metadata": {},
   "outputs": [],
   "source": [
    "def draw_tree(start, lam, decay, l0, theta, theta_decay, spread, d, depth=0, max_depth=40, max_n=1000):\n",
    "    # d.text(xy=start, text=str(depth), fill=(0,0,0,255))\n",
    "    if depth>max_depth:\n",
    "        return max_n\n",
    "    n_children=np.random.poisson(lam=lam/(1+depth))\n",
    "    if n_children == 0:\n",
    "        return max_n\n",
    "    thetas = theta-spread/2+spread*np.random.random(size=n_children)\n",
    "    for new_theta in thetas:\n",
    "        end= (start[0]+l0*np.sin(new_theta),start[1]+l0*np.cos(new_theta))\n",
    "        d.line(xy=(start,end),fill=(0,0,0,255))\n",
    "        #print(start, end)\n",
    "        if end[0]>=0 and end[0]<512 and end[1]>=0 and end[1]<512:\n",
    "            max_n-=draw_tree(start=end,\n",
    "                          lam=lam,\n",
    "                          decay=decay,\n",
    "                          l0=l0*decay,\n",
    "                          theta=new_theta,\n",
    "                          theta_decay=theta_decay,\n",
    "                          spread=spread*theta_decay,\n",
    "                          d=d,\n",
    "                          depth=depth+1)\n",
    "    return max_n"
   ]
  },
  {
   "cell_type": "code",
   "execution_count": 11,
   "metadata": {},
   "outputs": [],
   "source": [
    "def make_tree(start=(256,256),\n",
    "          lam=9.5,\n",
    "          decay=0.75,\n",
    "          theta_decay=0.75,\n",
    "          l0=60,\n",
    "          theta=np.pi,\n",
    "          spread=np.pi):\n",
    "  im = Image.new('RGBA', (512,512), (255,255,255,255))\n",
    "  d=ImageDraw.Draw(im)\n",
    "  draw_tree(start=start,\n",
    "            lam=lam,\n",
    "            decay=decay,\n",
    "            theta_decay=theta_decay,\n",
    "            l0=l0,\n",
    "            theta=theta,\n",
    "            spread=theta,\n",
    "            d=d) \n",
    "  return im"
   ]
  },
  {
   "cell_type": "code",
   "execution_count": 12,
   "metadata": {},
   "outputs": [],
   "source": [
    "def make_and_display_tree(start_x=256, start_y=256, lam=9.5, decay=0.75,\n",
    "                          theta_decay=0.75, l0=60, theta=np.pi, spread=np.pi):\n",
    "    tree_im=make_tree(start=(start_x,start_y),\n",
    "                   lam=lam,\n",
    "                   decay=decay,\n",
    "                   theta_decay=theta_decay,\n",
    "                   l0=l0,\n",
    "                   theta=theta,\n",
    "                   spread=theta)\n",
    "    display(tree_im)"
   ]
  },
  {
   "cell_type": "code",
   "execution_count": 16,
   "metadata": {},
   "outputs": [
    {
     "data": {
      "application/vnd.jupyter.widget-view+json": {
       "model_id": "65769e07ea6c40c3b07848ae55f35977",
       "version_major": 2,
       "version_minor": 0
      },
      "text/plain": [
       "interactive(children=(IntSlider(value=256, description='start_x', max=768, min=-256), IntSlider(value=256, des…"
      ]
     },
     "metadata": {},
     "output_type": "display_data"
    },
    {
     "data": {
      "text/plain": [
       "<function __main__.make_and_display_tree(start_x=256, start_y=256, lam=9.5, decay=0.75, theta_decay=0.75, l0=60, theta=3.141592653589793, spread=3.141592653589793)>"
      ]
     },
     "execution_count": 16,
     "metadata": {},
     "output_type": "execute_result"
    }
   ],
   "source": [
    "interact_manual(make_and_display_tree, \n",
    "         x=5,\n",
    "         start_x=256,\n",
    "         start_y=256,\n",
    "         lam=9.5,\n",
    "         decay=0.75,\n",
    "         theta_decay=0.75,\n",
    "         l0=60,\n",
    "         theta=np.pi,\n",
    "         spread=np.pi\n",
    "        )"
   ]
  },
  {
   "cell_type": "code",
   "execution_count": null,
   "metadata": {},
   "outputs": [],
   "source": []
  }
 ],
 "metadata": {
  "kernelspec": {
   "display_name": "Python 3",
   "language": "python",
   "name": "python3"
  },
  "language_info": {
   "codemirror_mode": {
    "name": "ipython",
    "version": 3
   },
   "file_extension": ".py",
   "mimetype": "text/x-python",
   "name": "python",
   "nbconvert_exporter": "python",
   "pygments_lexer": "ipython3",
   "version": "3.7.3"
  }
 },
 "nbformat": 4,
 "nbformat_minor": 2
}
