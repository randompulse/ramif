{
 "cells": [
  {
   "cell_type": "markdown",
   "metadata": {},
   "source": [
    "# run this with "
   ]
  },
  {
   "cell_type": "code",
   "execution_count": 1,
   "metadata": {},
   "outputs": [],
   "source": [
    "from __future__ import print_function\n",
    "from ipywidgets import interact, interactive, fixed, interact_manual, IntSlider, FloatSlider, HBox, VBox, interactive_output\n",
    "import ipywidgets as widgets\n"
   ]
  },
  {
   "cell_type": "code",
   "execution_count": 2,
   "metadata": {},
   "outputs": [],
   "source": [
    "from PIL import Image\n",
    "from PIL import ImageDraw\n",
    "import numpy as np"
   ]
  },
  {
   "cell_type": "code",
   "execution_count": 3,
   "metadata": {},
   "outputs": [
    {
     "data": {
      "application/vnd.jupyter.widget-view+json": {
       "model_id": "eeef7ebad5f74bdcaff1282cb08b1b49",
       "version_major": 2,
       "version_minor": 0
      },
      "text/plain": [
       "interactive(children=(Checkbox(value=True, description='x'), FloatSlider(value=1.0, description='y', max=3.0, …"
      ]
     },
     "metadata": {},
     "output_type": "display_data"
    }
   ],
   "source": [
    "@interact(x=True, y=1.0)\n",
    "def g(x, y):\n",
    "    return (x, y)"
   ]
  },
  {
   "cell_type": "code",
   "execution_count": 4,
   "metadata": {},
   "outputs": [],
   "source": [
    "def draw_tree(start, lam, decay, l0, theta, theta_decay, spread, d, depth=0, max_depth=40, max_n=1000):\n",
    "    # d.text(xy=start, text=str(depth), fill=(0,0,0,255))\n",
    "    if depth>max_depth:\n",
    "        return max_n\n",
    "    n_children=np.random.poisson(lam=lam/(1+depth))\n",
    "    if n_children == 0:\n",
    "        return max_n\n",
    "    thetas = theta-spread/2+spread*np.random.random(size=n_children)\n",
    "    for new_theta in thetas:\n",
    "        end= (start[0]+l0*np.sin(new_theta),start[1]+l0*np.cos(new_theta))\n",
    "        d.line(xy=(start,end),fill=(0,0,0,255))\n",
    "        #print(start, end)\n",
    "        if end[0]>=0 and end[0]<512 and end[1]>=0 and end[1]<512:\n",
    "            max_n-=draw_tree(start=end,\n",
    "                          lam=lam,\n",
    "                          decay=decay,\n",
    "                          l0=l0*decay,\n",
    "                          theta=new_theta,\n",
    "                          theta_decay=theta_decay,\n",
    "                          spread=spread*theta_decay,\n",
    "                          d=d,\n",
    "                          depth=depth+1)\n",
    "    return max_n"
   ]
  },
  {
   "cell_type": "code",
   "execution_count": 5,
   "metadata": {},
   "outputs": [],
   "source": [
    "def make_tree(start=(256,256),\n",
    "          lam=9.5,\n",
    "          decay=0.75,\n",
    "          theta_decay=0.75,\n",
    "          l0=60,\n",
    "          theta=np.pi,\n",
    "          spread=np.pi):\n",
    "  im = Image.new('RGBA', (512,512), (255,255,255,255))\n",
    "  d=ImageDraw.Draw(im)\n",
    "  draw_tree(start=start,\n",
    "            lam=lam,\n",
    "            decay=decay,\n",
    "            theta_decay=theta_decay,\n",
    "            l0=l0,\n",
    "            theta=theta,\n",
    "            spread=theta,\n",
    "            d=d) \n",
    "  return im"
   ]
  },
  {
   "cell_type": "code",
   "execution_count": 6,
   "metadata": {},
   "outputs": [],
   "source": [
    "def make_and_display_tree(start_x=256, start_y=256, lam=9.5, decay=0.75,\n",
    "                          theta_decay=0.75, l0=60, theta=np.pi, spread=np.pi, dummy_arg=False):\n",
    "    tree_im=make_tree(start=(start_x,start_y),\n",
    "                   lam=lam,\n",
    "                   decay=decay,\n",
    "                   theta_decay=theta_decay,\n",
    "                   l0=l0,\n",
    "                   theta=theta,\n",
    "                   spread=theta)\n",
    "    display(tree_im)"
   ]
  },
  {
   "cell_type": "code",
   "execution_count": 9,
   "metadata": {},
   "outputs": [
    {
     "data": {
      "application/vnd.jupyter.widget-view+json": {
       "model_id": "c2fad25585a4447786cc6fa2c9ceefc8",
       "version_major": 2,
       "version_minor": 0
      },
      "text/plain": [
       "interactive(children=(IntSlider(value=256, description='start_x', max=768, min=-256), IntSlider(value=256, des…"
      ]
     },
     "metadata": {},
     "output_type": "display_data"
    },
    {
     "data": {
      "text/plain": [
       "<function __main__.make_and_display_tree(start_x=256, start_y=256, lam=9.5, decay=0.75, theta_decay=0.75, l0=60, theta=3.141592653589793, spread=3.141592653589793, dummy_arg=False)>"
      ]
     },
     "execution_count": 9,
     "metadata": {},
     "output_type": "execute_result"
    }
   ],
   "source": [
    "interact(make_and_display_tree, \n",
    "         x=widgets.IntSlider(min=0,max=10,value=5, continuous_update=False),\n",
    "         start_x=256,\n",
    "         start_y=256,\n",
    "         lam=9.5,\n",
    "         decay=0.75,\n",
    "         theta_decay=0.75,\n",
    "         l0=60,\n",
    "         theta=np.pi,\n",
    "         spread=np.pi,\n",
    "         dummy_arg=False)"
   ]
  },
  {
   "cell_type": "code",
   "execution_count": 32,
   "metadata": {},
   "outputs": [],
   "source": [
    "start_x = IntSlider(description=r'\\(x_0\\)', min=0, max=512, value=256, continuous_update=False)\n",
    "start_y = IntSlider(description=r'\\(y_0\\)', min=0, max=512, value=256, continuous_update=False)\n",
    "lam = FloatSlider(description=r'\\(\\lambda\\)', min=0, max=15, value=9.5, continuous_update=False)\n",
    "decay = FloatSlider(description=r'\\(\\delta\\)', min=0, max=1.0, value=0.75, continuous_update=False)\n",
    "theta_decay = FloatSlider(description=r'\\(\\delta_{\\theta}\\)', min=0, max=1.0, value=0.75, continuous_update=False)\n",
    "l0 = IntSlider(description=r'\\(l_0\\)', min=0,max=100,value=60, continuous_update=False)\n",
    "theta = FloatSlider(description=r'\\(\\theta\\)', min=0, max=2*np.pi, value=np.pi, continuous_update=False)\n",
    "spread = FloatSlider(description='spread', min=0, max=2*np.pi, value=np.pi, continuous_update=False)\n",
    "#toggle_to_redraw = widgets.Checkbox(descritption='new', value=False)\n",
    "toggle_to_redraw=widgets.ToggleButton(\n",
    "    description='new',\n",
    "    disabled=False,\n",
    "    button_style='', # 'success', 'info', 'warning', 'danger' or ''\n",
    "    tooltip='redraw a tree',\n",
    "    icon='check'\n",
    ")\n",
    "ui=VBox([\n",
    "    HBox([start_x, start_y, lam, decay]),\n",
    "    HBox([decay, theta_decay, theta, l0, spread]),\n",
    "    toggle_to_redraw\n",
    "])\n",
    "\n",
    "out= widgets.interactive_output(f=make_and_display_tree,  \n",
    "                                controls={'start_x':start_x,\n",
    "                                 'start_y':start_y,\n",
    "                                 'lam':lam,\n",
    "                                 'decay':decay,\n",
    "                                 'theta':theta,\n",
    "                                 'theta_decay':theta_decay,\n",
    "                                 'l0':l0,\n",
    "                                 'theta':theta,\n",
    "                                 'spread':spread,\n",
    "                                 'dummy_arg':toggle_to_redraw\n",
    "                               }\n",
    "                                #,layout=widgets.Layout(width='50%', height='80px')\n",
    "                               )\n"
   ]
  },
  {
   "cell_type": "code",
   "execution_count": 33,
   "metadata": {},
   "outputs": [
    {
     "data": {
      "application/vnd.jupyter.widget-view+json": {
       "model_id": "a248218d7fdd4a40adec13cf9ae64a61",
       "version_major": 2,
       "version_minor": 0
      },
      "text/plain": [
       "Output(outputs=({'output_type': 'display_data', 'data': {'text/plain': '<PIL.Image.Image image mode=RGBA size=…"
      ]
     },
     "metadata": {},
     "output_type": "display_data"
    },
    {
     "data": {
      "application/vnd.jupyter.widget-view+json": {
       "model_id": "30a33b2de3c94498979467ee5611022f",
       "version_major": 2,
       "version_minor": 0
      },
      "text/plain": [
       "VBox(children=(HBox(children=(IntSlider(value=256, continuous_update=False, description='\\\\(x_0\\\\)', max=512),…"
      ]
     },
     "metadata": {},
     "output_type": "display_data"
    }
   ],
   "source": [
    "display(out)\n",
    "display(ui)\n"
   ]
  },
  {
   "cell_type": "code",
   "execution_count": null,
   "metadata": {},
   "outputs": [],
   "source": []
  },
  {
   "cell_type": "code",
   "execution_count": null,
   "metadata": {},
   "outputs": [],
   "source": []
  }
 ],
 "metadata": {
  "kernelspec": {
   "display_name": "Python 3",
   "language": "python",
   "name": "python3"
  },
  "language_info": {
   "codemirror_mode": {
    "name": "ipython",
    "version": 3
   },
   "file_extension": ".py",
   "mimetype": "text/x-python",
   "name": "python",
   "nbconvert_exporter": "python",
   "pygments_lexer": "ipython3",
   "version": "3.7.3"
  }
 },
 "nbformat": 4,
 "nbformat_minor": 2
}
