{
 "cells": [
  {
   "cell_type": "markdown",
   "metadata": {},
   "source": [
    "# run this with "
   ]
  },
  {
   "cell_type": "code",
   "execution_count": 1,
   "metadata": {},
   "outputs": [],
   "source": [
    "from __future__ import print_function\n",
    "from IPython.display import FileLink, FileLinks\n",
    "from ipywidgets import interact, interactive, fixed, interact_manual, IntSlider, FloatSlider, HBox, VBox, interactive_output\n",
    "import ipywidgets as widgets\n"
   ]
  },
  {
   "cell_type": "code",
   "execution_count": 2,
   "metadata": {},
   "outputs": [],
   "source": [
    "from PIL import Image\n",
    "from PIL import ImageDraw\n",
    "import numpy as np"
   ]
  },
  {
   "cell_type": "code",
   "execution_count": 3,
   "metadata": {},
   "outputs": [
    {
     "data": {
      "application/vnd.jupyter.widget-view+json": {
       "model_id": "08daebda86c04fe9a31d75805da20d97",
       "version_major": 2,
       "version_minor": 0
      },
      "text/plain": [
       "interactive(children=(Checkbox(value=True, description='x'), FloatSlider(value=1.0, description='y', max=3.0, …"
      ]
     },
     "metadata": {},
     "output_type": "display_data"
    }
   ],
   "source": [
    "@interact(x=True, y=1.0)\n",
    "def g(x, y):\n",
    "    return (x, y)"
   ]
  },
  {
   "cell_type": "code",
   "execution_count": 35,
   "metadata": {},
   "outputs": [
    {
     "data": {
      "application/vnd.jupyter.widget-view+json": {
       "model_id": "4c25f43e920840f4b5b89657195f9f22",
       "version_major": 2,
       "version_minor": 0
      },
      "text/plain": [
       "interactive(children=(IntSlider(value=256, description='start_x', max=768, min=-256), IntSlider(value=256, des…"
      ]
     },
     "metadata": {},
     "output_type": "display_data"
    },
    {
     "data": {
      "text/plain": [
       "<function __main__.make_tree0(start_x=256, start_y=256, lam=9.5, decay=0.75, l0=60, theta=3.141592653589793, spread_decay=0.8, spread=3.141592653589793, max_depth=5, max_n=1000)>"
      ]
     },
     "execution_count": 35,
     "metadata": {},
     "output_type": "execute_result"
    }
   ],
   "source": [
    "def draw_tree0(d,\n",
    "               start=0, \n",
    "               lam=10, \n",
    "               decay=0.8, \n",
    "               l0=5, \n",
    "               theta=0.5, \n",
    "               spread=0.25, \n",
    "               spread_decay=0.8, \n",
    "               depth=0, \n",
    "               max_depth=40, \n",
    "               max_n=1000):\n",
    "    # d.text(xy=start, text=str(depth), fill=(0,0,0,255))\n",
    "    if depth>max_depth:\n",
    "        return max_n\n",
    "    n_children=np.random.poisson(lam=lam/(1+depth))\n",
    "    if n_children == 0:\n",
    "        return max_n\n",
    "    thetas = theta-spread/2+spread*np.random.random(size=n_children)\n",
    "    for new_theta in thetas:\n",
    "        end= (start[0]+l0*np.sin(new_theta),start[1]+l0*np.cos(new_theta))\n",
    "        d.line(xy=(tuple(start),tuple(end)),fill=(0,0,0,255))\n",
    "        #print(start, end)\n",
    "        if end[0]>=0 and end[0]<512 and end[1]>=0 and end[1]<512:\n",
    "            max_n-=draw_tree0(d=d,\n",
    "                              start=end,\n",
    "                              lam=lam,\n",
    "                              decay=decay,\n",
    "                              l0=l0*decay,\n",
    "                              theta=new_theta,\n",
    "                              spread=spread*spread_decay,\n",
    "                              spread_decay=spread_decay,\n",
    "                              depth=depth+1,\n",
    "                              max_depth=max_depth,\n",
    "                              max_n=max_n)\n",
    "    return max_n\n",
    "def make_tree0(start_x=256,\n",
    "              start_y=256,\n",
    "              lam=9.5,\n",
    "              decay=0.75,\n",
    "              l0=60,\n",
    "              theta=np.pi,\n",
    "              spread_decay=0.8,\n",
    "              spread=np.pi,\n",
    "              max_depth=5,\n",
    "              max_n=1000):\n",
    "  im = Image.new('RGBA', (512,512), (255,255,255,255))\n",
    "  d=ImageDraw.Draw(im)\n",
    "  draw_tree0(\n",
    "      d=d,\n",
    "      start=np.array([start_x,start_y]),\n",
    "      lam=lam,\n",
    "      decay=decay,\n",
    "      l0=l0,\n",
    "      theta=theta,\n",
    "      spread=spread,\n",
    "      spread_decay=spread_decay,\n",
    "      depth=0,\n",
    "      max_depth=max_depth,\n",
    "      max_n=max_n) \n",
    "             \n",
    "  return im\n",
    "\n",
    "interact(make_tree0)"
   ]
  },
  {
   "cell_type": "code",
   "execution_count": 41,
   "metadata": {},
   "outputs": [
    {
     "data": {
      "application/vnd.jupyter.widget-view+json": {
       "model_id": "8eef23f5da584e378a2792905195eadf",
       "version_major": 2,
       "version_minor": 0
      },
      "text/plain": [
       "interactive(children=(IntSlider(value=256, description='start_x', max=768, min=-256), IntSlider(value=256, des…"
      ]
     },
     "metadata": {},
     "output_type": "display_data"
    },
    {
     "data": {
      "text/plain": [
       "<function __main__.make_tree2(start_x=256, start_y=256, lam=9.5, decay=0.75, l0=60, max_depth=10, max_n=1000)>"
      ]
     },
     "execution_count": 41,
     "metadata": {},
     "output_type": "execute_result"
    }
   ],
   "source": [
    "def draw_tree2(d, start, lam, decay, l0, theta_min, depth=0, max_depth=40, max_n=1000):\n",
    "    # d.text(xy=start, text=str(depth), fill=(0,0,0,255))\n",
    "    if depth>max_depth:\n",
    "        return max_n\n",
    "    n_children=np.random.poisson(lam=lam/(1+depth))\n",
    "    if n_children == 0:\n",
    "        return max_n\n",
    "    # 3d gaussian\n",
    "    new_branches= np.random.randn(n_children,3)\n",
    "    # project on sphere (normalize) \n",
    "    new_branches/=np.linalg.norm(new_branches, axis=1, keepdims=True)\n",
    "    # and keep only 2 first dimensions\n",
    "    new_branches=new_branches[:,:2]\n",
    "    # keep only upper branches\n",
    "    new_branches=new_branches[new_branches[0]>np.sin(theta_min)]\n",
    "    \n",
    "    for new_branch in new_branches:\n",
    "        \n",
    "        end= start+l0*new_branch\n",
    "        d.line(xy=(tuple(start),tuple(end)),fill=(0,0,0,255))\n",
    "        if end[0]>=0 and end[0]<512 and end[1]>=0 and end[1]<512:\n",
    "            max_n-=draw_tree2(\n",
    "                d=d,\n",
    "                start=end,\n",
    "                lam=lam,\n",
    "                decay=decay,\n",
    "                l0=l0*decay,\n",
    "                theta_min=theta_min,\n",
    "                depth=depth+1,\n",
    "                max_depth=max_depth,\n",
    "                max_n=max_n\n",
    "            )\n",
    "    return max_n\n",
    "def make_tree2(start_x=256,\n",
    "              start_y=256,\n",
    "              lam=9.5,\n",
    "              decay=0.75,\n",
    "              l0=60,\n",
    "              theta_min=-np.pi,\n",
    "              max_depth=10,\n",
    "              max_n=1000):\n",
    "  im = Image.new('RGBA', (512,512), (255,255,255,255))\n",
    "  d=ImageDraw.Draw(im)\n",
    "  draw_tree2(\n",
    "      d=d,\n",
    "      start=np.array([start_x,start_y]),\n",
    "      lam=lam,\n",
    "      decay=decay,\n",
    "      l0=l0,\n",
    "      depth=0,\n",
    "      max_depth=max_depth,\n",
    "      max_n=max_n) \n",
    "  return im\n",
    "\n",
    "interact(make_tree2)"
   ]
  },
  {
   "cell_type": "code",
   "execution_count": 16,
   "metadata": {},
   "outputs": [
    {
     "data": {
      "application/vnd.jupyter.widget-view+json": {
       "model_id": "5d3f87b33d5645239464d0d4eef0b84c",
       "version_major": 2,
       "version_minor": 0
      },
      "text/plain": [
       "interactive(children=(IntSlider(value=25, description='wind_0', max=75, min=-25), FloatSlider(value=0.75, desc…"
      ]
     },
     "metadata": {},
     "output_type": "display_data"
    },
    {
     "data": {
      "text/plain": [
       "<function __main__.make_tree1(wind_0=25, wind_decay=0.75, lambda_=8, lambda_decay=0.75, radius=50, radius_decay=0.75, max_depth=40, max_n=1000)>"
      ]
     },
     "execution_count": 16,
     "metadata": {},
     "output_type": "execute_result"
    }
   ],
   "source": [
    "def draw_tree1(start=[0,0],\n",
    "              wind=[0,0],\n",
    "              wind_decay=0.75,\n",
    "              lambda_=8,\n",
    "              lambda_decay=0.75,\n",
    "              radius=50,\n",
    "              radius_decay=0.75,\n",
    "              d=None,\n",
    "              depth=0,\n",
    "              max_depth=40,\n",
    "              max_n=1000):\n",
    "    # d.text(xy=start, text=str(depth), fill=(0,0,0,255))\n",
    "    if depth>max_depth:\n",
    "        return max_n\n",
    "    n_children=np.random.poisson(lam = lambda_)\n",
    "    if n_children == 0:\n",
    "        return max_n\n",
    "    winds = np.array(wind)+radius*np.random.randn(n_children,2)\n",
    "    for new_wind in winds:\n",
    "        child = np.array(start)+new_wind \n",
    "        d.line(xy=((start[0],start[1]),\n",
    "                   (child[0],child[1])),\n",
    "                   fill=(0,0,0,255))\n",
    "        max_n-=1\n",
    "        #print(start, end)\n",
    "        if max_n>=0 and child[0]>=0 and child[0]<512 and child[1]>=0 and child[1]<512:\n",
    "            max_n=draw_tree1(start=child,\n",
    "                             wind=wind*wind_decay,\n",
    "                             wind_decay=wind_decay,\n",
    "                             lambda_=lambda_*lambda_decay,\n",
    "                             lambda_decay=lambda_decay,\n",
    "                             radius=radius*radius_decay,\n",
    "                             radius_decay=radius_decay,\n",
    "                             d=d,\n",
    "                             depth=depth+1,\n",
    "                             max_depth=max_depth, \n",
    "                             max_n=max_n)\n",
    "    return max_n\n",
    "\n",
    "def make_tree1(wind_0=25,\n",
    "              wind_decay=0.75,\n",
    "              lambda_=8,\n",
    "              lambda_decay=0.75,\n",
    "              radius=50,\n",
    "              radius_decay=0.75,\n",
    "              max_depth=40,\n",
    "              max_n=1000):\n",
    "  im = Image.new('RGBA', (512,512), (255,255,255,255))\n",
    "  d=ImageDraw.Draw(im)\n",
    "  draw_tree1(start=np.array([256,256]),\n",
    "            wind=np.array([wind_0,0]),\n",
    "            wind_decay=wind_decay,\n",
    "              lambda_=lambda_,\n",
    "              lambda_decay=lambda_decay,\n",
    "              radius=radius,\n",
    "              radius_decay=radius_decay,\n",
    "              depth=0,\n",
    "              max_depth=max_depth,\n",
    "              max_n=max_n,\n",
    "              d=d) \n",
    "  display(im)\n",
    "\n",
    "interact(make_tree1)\n",
    "  "
   ]
  },
  {
   "cell_type": "code",
   "execution_count": 15,
   "metadata": {},
   "outputs": [
    {
     "data": {
      "application/vnd.jupyter.widget-view+json": {
       "model_id": "",
       "version_major": 2,
       "version_minor": 0
      },
      "text/plain": [
       "interactive(children=(IntSlider(value=25, description='wind_0', max=75, min=-25), FloatSlider(value=0.75, desc…"
      ]
     },
     "metadata": {},
     "output_type": "display_data"
    },
    {
     "data": {
      "text/plain": [
       "<function __main__.make_tree(wind_0=25, wind_decay=0.75, lambda_=8, lambda_decay=0.75, radius=50, radius_decay=0.75, max_depth=40, max_n=1000)>"
      ]
     },
     "execution_count": 15,
     "metadata": {},
     "output_type": "execute_result"
    }
   ],
   "source": [
    "interact(make_tree)"
   ]
  },
  {
   "cell_type": "code",
   "execution_count": 8,
   "metadata": {},
   "outputs": [],
   "source": [
    "def make_tree(start=(256,256),\n",
    "          lam=9.5,\n",
    "          decay=0.75,\n",
    "          theta_decay=0.75,\n",
    "          l0=60,\n",
    "          theta=np.pi,\n",
    "          spread=np.pi):\n",
    "  im = Image.new('RGBA', (512,512), (255,255,255,255))\n",
    "  d=ImageDraw.Draw(im)\n",
    "  draw_tree(start=start,\n",
    "            lam=lam,\n",
    "            decay=decay,\n",
    "            theta_decay=theta_decay,\n",
    "            l0=l0,\n",
    "            theta=theta,\n",
    "            spread=theta,\n",
    "            d=d) \n",
    "  return im"
   ]
  },
  {
   "cell_type": "code",
   "execution_count": 9,
   "metadata": {},
   "outputs": [
    {
     "data": {
      "text/plain": [
       "\u001b[0;31mSignature:\u001b[0m\n",
       "\u001b[0mdraw_tree\u001b[0m\u001b[0;34m(\u001b[0m\u001b[0;34m\u001b[0m\n",
       "\u001b[0;34m\u001b[0m    \u001b[0mstart\u001b[0m\u001b[0;34m,\u001b[0m\u001b[0;34m\u001b[0m\n",
       "\u001b[0;34m\u001b[0m    \u001b[0mlam\u001b[0m\u001b[0;34m,\u001b[0m\u001b[0;34m\u001b[0m\n",
       "\u001b[0;34m\u001b[0m    \u001b[0mdecay\u001b[0m\u001b[0;34m,\u001b[0m\u001b[0;34m\u001b[0m\n",
       "\u001b[0;34m\u001b[0m    \u001b[0ml0\u001b[0m\u001b[0;34m,\u001b[0m\u001b[0;34m\u001b[0m\n",
       "\u001b[0;34m\u001b[0m    \u001b[0mtheta\u001b[0m\u001b[0;34m,\u001b[0m\u001b[0;34m\u001b[0m\n",
       "\u001b[0;34m\u001b[0m    \u001b[0mtheta_decay\u001b[0m\u001b[0;34m,\u001b[0m\u001b[0;34m\u001b[0m\n",
       "\u001b[0;34m\u001b[0m    \u001b[0mspread\u001b[0m\u001b[0;34m,\u001b[0m\u001b[0;34m\u001b[0m\n",
       "\u001b[0;34m\u001b[0m    \u001b[0md\u001b[0m\u001b[0;34m,\u001b[0m\u001b[0;34m\u001b[0m\n",
       "\u001b[0;34m\u001b[0m    \u001b[0mdepth\u001b[0m\u001b[0;34m=\u001b[0m\u001b[0;36m0\u001b[0m\u001b[0;34m,\u001b[0m\u001b[0;34m\u001b[0m\n",
       "\u001b[0;34m\u001b[0m    \u001b[0mmax_depth\u001b[0m\u001b[0;34m=\u001b[0m\u001b[0;36m40\u001b[0m\u001b[0;34m,\u001b[0m\u001b[0;34m\u001b[0m\n",
       "\u001b[0;34m\u001b[0m    \u001b[0mmax_n\u001b[0m\u001b[0;34m=\u001b[0m\u001b[0;36m1000\u001b[0m\u001b[0;34m,\u001b[0m\u001b[0;34m\u001b[0m\n",
       "\u001b[0;34m\u001b[0m\u001b[0;34m)\u001b[0m\u001b[0;34m\u001b[0m\u001b[0;34m\u001b[0m\u001b[0m\n",
       "\u001b[0;31mDocstring:\u001b[0m <no docstring>\n",
       "\u001b[0;31mFile:\u001b[0m      ~/work/<ipython-input-5-50067805e26c>\n",
       "\u001b[0;31mType:\u001b[0m      function\n"
      ]
     },
     "metadata": {},
     "output_type": "display_data"
    }
   ],
   "source": [
    "?draw_tree"
   ]
  },
  {
   "cell_type": "code",
   "execution_count": 10,
   "metadata": {},
   "outputs": [],
   "source": [
    "def make_and_display_tree(start_x=256, start_y=256, lam=9.5, decay=0.75,\n",
    "                          theta_decay=0.75, l0=60, theta=np.pi/2, spread=np.pi, dummy_arg=False):\n",
    "    tree_im=make_tree(start=(start_x,start_y),\n",
    "                   lam=lam,\n",
    "                   decay=decay,\n",
    "                   theta_decay=theta_decay,\n",
    "                   l0=l0,\n",
    "                   theta=theta,\n",
    "                   spread=theta)\n",
    "    display(tree_im)"
   ]
  },
  {
   "cell_type": "code",
   "execution_count": 11,
   "metadata": {},
   "outputs": [
    {
     "data": {
      "application/vnd.jupyter.widget-view+json": {
       "model_id": "9b6cd079b6b742a397dd23c3a52436ed",
       "version_major": 2,
       "version_minor": 0
      },
      "text/plain": [
       "interactive(children=(IntSlider(value=256, description='start_x', max=768, min=-256), IntSlider(value=256, des…"
      ]
     },
     "metadata": {},
     "output_type": "display_data"
    },
    {
     "data": {
      "text/plain": [
       "<function __main__.make_and_display_tree(start_x=256, start_y=256, lam=9.5, decay=0.75, theta_decay=0.75, l0=60, theta=1.5707963267948966, spread=3.141592653589793, dummy_arg=False)>"
      ]
     },
     "execution_count": 11,
     "metadata": {},
     "output_type": "execute_result"
    }
   ],
   "source": [
    "interact(make_and_display_tree)"
   ]
  },
  {
   "cell_type": "code",
   "execution_count": 29,
   "metadata": {},
   "outputs": [],
   "source": [
    "start_x = IntSlider(description=r'\\(x_0\\)', min=0, max=512, value=256, continuous_update=False)\n",
    "start_y = IntSlider(description=r'\\(y_0\\)', min=0, max=512, value=256, continuous_update=False)\n",
    "lam = FloatSlider(description=r'\\(\\lambda\\)', min=0, max=15, value=9.5, continuous_update=False)\n",
    "decay = FloatSlider(description=r'\\(\\delta\\)', min=0, max=1.0, value=0.75, continuous_update=False)\n",
    "theta_decay = FloatSlider(description=r'\\(\\delta_{\\theta}\\)', min=0, max=1.0, value=0.75, continuous_update=False)\n",
    "l0 = IntSlider(description=r'\\(l_0\\)', min=0,max=100,value=60, continuous_update=False)\n",
    "theta = FloatSlider(description=r'\\(\\theta\\)', min=0, max=2*np.pi, value=np.pi, continuous_update=False)\n",
    "spread = FloatSlider(description='spread', min=0, max=2*np.pi, value=np.pi, continuous_update=False)\n",
    "#toggle_to_redraw = widgets.Checkbox(descritption='new', value=False)\n",
    "toggle_to_redraw=widgets.ToggleButton(\n",
    "    description='Redraw',\n",
    "    disabled=False,\n",
    "    button_style='', # 'success', 'info', 'warning', 'danger' or ''\n",
    "    tooltip='redraw a tree',\n",
    "    icon='check'\n",
    ")\n",
    "\n",
    "ui=VBox([\n",
    "    HBox([start_x, start_y, lam, decay]),\n",
    "    HBox([decay, theta_decay, theta, l0, spread]),\n",
    "    toggle_to_redraw\n",
    "])\n",
    "\n",
    "out= widgets.interactive_output(f=make_and_display_tree,  \n",
    "                                controls={'start_x':start_x,\n",
    "                                 'start_y':start_y,\n",
    "                                 'lam':lam,\n",
    "                                 'decay':decay,\n",
    "                                 'theta':theta,\n",
    "                                 'theta_decay':theta_decay,\n",
    "                                 'l0':l0,\n",
    "                                 'theta':theta,\n",
    "                                 'spread':spread,\n",
    "                                 'dummy_arg':toggle_to_redraw\n",
    "                               }\n",
    "                                #,layout=widgets.Layout(width='50%', height='80px')\n",
    "                               )\n"
   ]
  },
  {
   "cell_type": "code",
   "execution_count": 30,
   "metadata": {},
   "outputs": [
    {
     "data": {
      "application/vnd.jupyter.widget-view+json": {
       "model_id": "c94910a291e545879302bab621737383",
       "version_major": 2,
       "version_minor": 0
      },
      "text/plain": [
       "Output(outputs=({'traceback': ['\\x1b[0;31m--------------------------------------------------------------------…"
      ]
     },
     "metadata": {},
     "output_type": "display_data"
    },
    {
     "data": {
      "application/vnd.jupyter.widget-view+json": {
       "model_id": "eef5e89ae3c34b5d91a6415cbe8061ae",
       "version_major": 2,
       "version_minor": 0
      },
      "text/plain": [
       "VBox(children=(HBox(children=(IntSlider(value=256, continuous_update=False, description='\\\\(x_0\\\\)', max=512),…"
      ]
     },
     "metadata": {},
     "output_type": "display_data"
    }
   ],
   "source": [
    "display(out)\n",
    "display(ui)\n"
   ]
  },
  {
   "cell_type": "code",
   "execution_count": 28,
   "metadata": {},
   "outputs": [
    {
     "ename": "SyntaxError",
     "evalue": "invalid syntax (<ipython-input-28-fb4a8a64c9e8>, line 1)",
     "output_type": "error",
     "traceback": [
      "\u001b[0;36m  File \u001b[0;32m\"<ipython-input-28-fb4a8a64c9e8>\"\u001b[0;36m, line \u001b[0;32m1\u001b[0m\n\u001b[0;31m    widgets.\u001b[0m\n\u001b[0m            ^\u001b[0m\n\u001b[0;31mSyntaxError\u001b[0m\u001b[0;31m:\u001b[0m invalid syntax\n"
     ]
    }
   ],
   "source": [
    "widgets.widget_button."
   ]
  },
  {
   "cell_type": "code",
   "execution_count": 19,
   "metadata": {},
   "outputs": [
    {
     "data": {
      "text/html": [
       "<a href='./simple interactive.ipynb' target='_blank'>./simple interactive.ipynb</a><br>"
      ],
      "text/plain": [
       "/home/jovyan/work/simple interactive.ipynb"
      ]
     },
     "execution_count": 19,
     "metadata": {},
     "output_type": "execute_result"
    }
   ],
   "source": [
    "FileLink('./simple interactive.ipynb')"
   ]
  },
  {
   "cell_type": "code",
   "execution_count": 23,
   "metadata": {},
   "outputs": [
    {
     "data": {
      "text/html": [
       "./<br>\n",
       "&nbsp;&nbsp;<a href='./README.md' target='_blank'>README.md</a><br>\n",
       "&nbsp;&nbsp;<a href='./simple interactive.ipynb' target='_blank'>simple interactive.ipynb</a><br>\n",
       "&nbsp;&nbsp;<a href='./.gitignore' target='_blank'>.gitignore</a><br>\n",
       "&nbsp;&nbsp;<a href='./requirements.txt' target='_blank'>requirements.txt</a><br>\n",
       "&nbsp;&nbsp;<a href='./LICENSE' target='_blank'>LICENSE</a><br>\n",
       "&nbsp;&nbsp;<a href='./launch.sh' target='_blank'>launch.sh</a><br>"
      ],
      "text/plain": [
       "./\n",
       "  README.md\n",
       "  simple interactive.ipynb\n",
       "  .gitignore\n",
       "  requirements.txt\n",
       "  LICENSE\n",
       "  launch.sh"
      ]
     },
     "execution_count": 23,
     "metadata": {},
     "output_type": "execute_result"
    }
   ],
   "source": [
    "FileLinks('.', recursive=False)"
   ]
  },
  {
   "cell_type": "code",
   "execution_count": null,
   "metadata": {},
   "outputs": [],
   "source": []
  }
 ],
 "metadata": {
  "kernelspec": {
   "display_name": "Python 3",
   "language": "python",
   "name": "python3"
  },
  "language_info": {
   "codemirror_mode": {
    "name": "ipython",
    "version": 3
   },
   "file_extension": ".py",
   "mimetype": "text/x-python",
   "name": "python",
   "nbconvert_exporter": "python",
   "pygments_lexer": "ipython3",
   "version": "3.7.3"
  }
 },
 "nbformat": 4,
 "nbformat_minor": 2
}
